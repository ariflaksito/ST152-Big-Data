{
 "cells": [
  {
   "cell_type": "code",
   "execution_count": 1,
   "metadata": {},
   "outputs": [
    {
     "data": {
      "text/plain": [
       "pandas.core.frame.DataFrame"
      ]
     },
     "execution_count": 1,
     "metadata": {},
     "output_type": "execute_result"
    }
   ],
   "source": [
    "# Import library pandas, numpy dan baca dataset\n",
    "import pandas as pd\n",
    "import numpy as np\n",
    "import matplotlib.pyplot as plt\n",
    "\n",
    "nsfg = pd.read_hdf('nsfg.hdf5','nsfg')\n",
    "type(nsfg)"
   ]
  },
  {
   "cell_type": "code",
   "execution_count": 2,
   "metadata": {},
   "outputs": [
    {
     "data": {
      "text/plain": [
       "(9358, 10)"
      ]
     },
     "execution_count": 2,
     "metadata": {},
     "output_type": "execute_result"
    }
   ],
   "source": [
    "# Melihat ukuran data\n",
    "nsfg.shape"
   ]
  },
  {
   "cell_type": "code",
   "execution_count": 3,
   "metadata": {},
   "outputs": [
    {
     "data": {
      "text/html": [
       "<div>\n",
       "<style scoped>\n",
       "    .dataframe tbody tr th:only-of-type {\n",
       "        vertical-align: middle;\n",
       "    }\n",
       "\n",
       "    .dataframe tbody tr th {\n",
       "        vertical-align: top;\n",
       "    }\n",
       "\n",
       "    .dataframe thead th {\n",
       "        text-align: right;\n",
       "    }\n",
       "</style>\n",
       "<table border=\"1\" class=\"dataframe\">\n",
       "  <thead>\n",
       "    <tr style=\"text-align: right;\">\n",
       "      <th></th>\n",
       "      <th>caseid</th>\n",
       "      <th>outcome</th>\n",
       "      <th>birthwgt_lb1</th>\n",
       "      <th>birthwgt_oz1</th>\n",
       "      <th>prglngth</th>\n",
       "      <th>nbrnaliv</th>\n",
       "      <th>agecon</th>\n",
       "      <th>agepreg</th>\n",
       "      <th>hpagelb</th>\n",
       "      <th>wgt2013_2015</th>\n",
       "    </tr>\n",
       "  </thead>\n",
       "  <tbody>\n",
       "    <tr>\n",
       "      <th>0</th>\n",
       "      <td>60418</td>\n",
       "      <td>1</td>\n",
       "      <td>5.0</td>\n",
       "      <td>4.0</td>\n",
       "      <td>40</td>\n",
       "      <td>1.0</td>\n",
       "      <td>2000</td>\n",
       "      <td>2075.0</td>\n",
       "      <td>22.0</td>\n",
       "      <td>3554.964843</td>\n",
       "    </tr>\n",
       "    <tr>\n",
       "      <th>1</th>\n",
       "      <td>60418</td>\n",
       "      <td>1</td>\n",
       "      <td>4.0</td>\n",
       "      <td>12.0</td>\n",
       "      <td>36</td>\n",
       "      <td>1.0</td>\n",
       "      <td>2291</td>\n",
       "      <td>2358.0</td>\n",
       "      <td>25.0</td>\n",
       "      <td>3554.964843</td>\n",
       "    </tr>\n",
       "    <tr>\n",
       "      <th>2</th>\n",
       "      <td>60418</td>\n",
       "      <td>1</td>\n",
       "      <td>5.0</td>\n",
       "      <td>4.0</td>\n",
       "      <td>36</td>\n",
       "      <td>1.0</td>\n",
       "      <td>3241</td>\n",
       "      <td>3308.0</td>\n",
       "      <td>52.0</td>\n",
       "      <td>3554.964843</td>\n",
       "    </tr>\n",
       "    <tr>\n",
       "      <th>3</th>\n",
       "      <td>60419</td>\n",
       "      <td>6</td>\n",
       "      <td>NaN</td>\n",
       "      <td>NaN</td>\n",
       "      <td>33</td>\n",
       "      <td>NaN</td>\n",
       "      <td>3650</td>\n",
       "      <td>NaN</td>\n",
       "      <td>NaN</td>\n",
       "      <td>2484.535358</td>\n",
       "    </tr>\n",
       "    <tr>\n",
       "      <th>4</th>\n",
       "      <td>60420</td>\n",
       "      <td>1</td>\n",
       "      <td>8.0</td>\n",
       "      <td>13.0</td>\n",
       "      <td>41</td>\n",
       "      <td>1.0</td>\n",
       "      <td>2191</td>\n",
       "      <td>2266.0</td>\n",
       "      <td>24.0</td>\n",
       "      <td>2903.782914</td>\n",
       "    </tr>\n",
       "  </tbody>\n",
       "</table>\n",
       "</div>"
      ],
      "text/plain": [
       "   caseid  outcome  birthwgt_lb1  birthwgt_oz1  prglngth  nbrnaliv  agecon  \\\n",
       "0   60418        1           5.0           4.0        40       1.0    2000   \n",
       "1   60418        1           4.0          12.0        36       1.0    2291   \n",
       "2   60418        1           5.0           4.0        36       1.0    3241   \n",
       "3   60419        6           NaN           NaN        33       NaN    3650   \n",
       "4   60420        1           8.0          13.0        41       1.0    2191   \n",
       "\n",
       "   agepreg  hpagelb  wgt2013_2015  \n",
       "0   2075.0     22.0   3554.964843  \n",
       "1   2358.0     25.0   3554.964843  \n",
       "2   3308.0     52.0   3554.964843  \n",
       "3      NaN      NaN   2484.535358  \n",
       "4   2266.0     24.0   2903.782914  "
      ]
     },
     "execution_count": 3,
     "metadata": {},
     "output_type": "execute_result"
    }
   ],
   "source": [
    "# Melihat 5 data teratas\n",
    "nsfg.head()"
   ]
  },
  {
   "cell_type": "code",
   "execution_count": 4,
   "metadata": {},
   "outputs": [
    {
     "data": {
      "text/html": [
       "<div>\n",
       "<style scoped>\n",
       "    .dataframe tbody tr th:only-of-type {\n",
       "        vertical-align: middle;\n",
       "    }\n",
       "\n",
       "    .dataframe tbody tr th {\n",
       "        vertical-align: top;\n",
       "    }\n",
       "\n",
       "    .dataframe thead th {\n",
       "        text-align: right;\n",
       "    }\n",
       "</style>\n",
       "<table border=\"1\" class=\"dataframe\">\n",
       "  <thead>\n",
       "    <tr style=\"text-align: right;\">\n",
       "      <th></th>\n",
       "      <th>caseid</th>\n",
       "      <th>outcome</th>\n",
       "      <th>birthwgt_lb1</th>\n",
       "      <th>birthwgt_oz1</th>\n",
       "      <th>prglngth</th>\n",
       "      <th>nbrnaliv</th>\n",
       "      <th>agecon</th>\n",
       "      <th>agepreg</th>\n",
       "      <th>hpagelb</th>\n",
       "      <th>wgt2013_2015</th>\n",
       "    </tr>\n",
       "  </thead>\n",
       "  <tbody>\n",
       "    <tr>\n",
       "      <th>9353</th>\n",
       "      <td>70615</td>\n",
       "      <td>1</td>\n",
       "      <td>4.0</td>\n",
       "      <td>11.0</td>\n",
       "      <td>35</td>\n",
       "      <td>1.0</td>\n",
       "      <td>1758</td>\n",
       "      <td>1825.0</td>\n",
       "      <td>22.0</td>\n",
       "      <td>8117.554461</td>\n",
       "    </tr>\n",
       "    <tr>\n",
       "      <th>9354</th>\n",
       "      <td>70616</td>\n",
       "      <td>1</td>\n",
       "      <td>8.0</td>\n",
       "      <td>7.0</td>\n",
       "      <td>42</td>\n",
       "      <td>1.0</td>\n",
       "      <td>1741</td>\n",
       "      <td>1816.0</td>\n",
       "      <td>18.0</td>\n",
       "      <td>6842.240477</td>\n",
       "    </tr>\n",
       "    <tr>\n",
       "      <th>9355</th>\n",
       "      <td>70616</td>\n",
       "      <td>1</td>\n",
       "      <td>7.0</td>\n",
       "      <td>6.0</td>\n",
       "      <td>36</td>\n",
       "      <td>1.0</td>\n",
       "      <td>2091</td>\n",
       "      <td>2158.0</td>\n",
       "      <td>23.0</td>\n",
       "      <td>6842.240477</td>\n",
       "    </tr>\n",
       "    <tr>\n",
       "      <th>9356</th>\n",
       "      <td>70619</td>\n",
       "      <td>1</td>\n",
       "      <td>8.0</td>\n",
       "      <td>3.0</td>\n",
       "      <td>41</td>\n",
       "      <td>1.0</td>\n",
       "      <td>3450</td>\n",
       "      <td>3525.0</td>\n",
       "      <td>31.0</td>\n",
       "      <td>3856.253532</td>\n",
       "    </tr>\n",
       "    <tr>\n",
       "      <th>9357</th>\n",
       "      <td>70619</td>\n",
       "      <td>1</td>\n",
       "      <td>8.0</td>\n",
       "      <td>5.0</td>\n",
       "      <td>40</td>\n",
       "      <td>1.0</td>\n",
       "      <td>3683</td>\n",
       "      <td>3758.0</td>\n",
       "      <td>34.0</td>\n",
       "      <td>3856.253532</td>\n",
       "    </tr>\n",
       "  </tbody>\n",
       "</table>\n",
       "</div>"
      ],
      "text/plain": [
       "      caseid  outcome  birthwgt_lb1  birthwgt_oz1  prglngth  nbrnaliv  agecon  \\\n",
       "9353   70615        1           4.0          11.0        35       1.0    1758   \n",
       "9354   70616        1           8.0           7.0        42       1.0    1741   \n",
       "9355   70616        1           7.0           6.0        36       1.0    2091   \n",
       "9356   70619        1           8.0           3.0        41       1.0    3450   \n",
       "9357   70619        1           8.0           5.0        40       1.0    3683   \n",
       "\n",
       "      agepreg  hpagelb  wgt2013_2015  \n",
       "9353   1825.0     22.0   8117.554461  \n",
       "9354   1816.0     18.0   6842.240477  \n",
       "9355   2158.0     23.0   6842.240477  \n",
       "9356   3525.0     31.0   3856.253532  \n",
       "9357   3758.0     34.0   3856.253532  "
      ]
     },
     "execution_count": 4,
     "metadata": {},
     "output_type": "execute_result"
    }
   ],
   "source": [
    "# Melihat 5 data terbawah\n",
    "nsfg.tail()"
   ]
  },
  {
   "cell_type": "code",
   "execution_count": 5,
   "metadata": {},
   "outputs": [
    {
     "data": {
      "text/plain": [
       "Index(['caseid', 'outcome', 'birthwgt_lb1', 'birthwgt_oz1', 'prglngth',\n",
       "       'nbrnaliv', 'agecon', 'agepreg', 'hpagelb', 'wgt2013_2015'],\n",
       "      dtype='object')"
      ]
     },
     "execution_count": 5,
     "metadata": {},
     "output_type": "execute_result"
    }
   ],
   "source": [
    "# Melihat nama kolom\n",
    "nsfg.columns"
   ]
  },
  {
   "cell_type": "code",
   "execution_count": 6,
   "metadata": {},
   "outputs": [],
   "source": [
    "# Memilih kolom birthwgt_oz1: ounces\n",
    "ounces = nsfg['birthwgt_oz1']"
   ]
  },
  {
   "cell_type": "code",
   "execution_count": 7,
   "metadata": {},
   "outputs": [
    {
     "data": {
      "text/plain": [
       "0        4.0\n",
       "1       12.0\n",
       "2        4.0\n",
       "3        NaN\n",
       "4       13.0\n",
       "        ... \n",
       "9353    11.0\n",
       "9354     7.0\n",
       "9355     6.0\n",
       "9356     3.0\n",
       "9357     5.0\n",
       "Name: birthwgt_oz1, Length: 9358, dtype: float64"
      ]
     },
     "execution_count": 7,
     "metadata": {},
     "output_type": "execute_result"
    }
   ],
   "source": [
    "ounces"
   ]
  },
  {
   "cell_type": "code",
   "execution_count": 8,
   "metadata": {},
   "outputs": [
    {
     "data": {
      "text/plain": [
       "pandas.core.series.Series"
      ]
     },
     "execution_count": 8,
     "metadata": {},
     "output_type": "execute_result"
    }
   ],
   "source": [
    "type(ounces)"
   ]
  },
  {
   "cell_type": "code",
   "execution_count": 9,
   "metadata": {},
   "outputs": [
    {
     "data": {
      "text/plain": [
       "0     4.0\n",
       "1    12.0\n",
       "2     4.0\n",
       "3     NaN\n",
       "4    13.0\n",
       "Name: birthwgt_oz1, dtype: float64"
      ]
     },
     "execution_count": 9,
     "metadata": {},
     "output_type": "execute_result"
    }
   ],
   "source": [
    "ounces.head()"
   ]
  },
  {
   "cell_type": "code",
   "execution_count": 10,
   "metadata": {},
   "outputs": [
    {
     "data": {
      "text/plain": [
       "1    6489\n",
       "4    1469\n",
       "2     947\n",
       "6     249\n",
       "5     118\n",
       "3      86\n",
       "Name: outcome, dtype: int64"
      ]
     },
     "execution_count": 10,
     "metadata": {},
     "output_type": "execute_result"
    }
   ],
   "source": [
    "# Label outcomes\n",
    "# value\tlabel\n",
    "# 1 Live birth\n",
    "# 2 Induced abortion\n",
    "# 3 Stillbirth\n",
    "# 4 Miscarriage\n",
    "# 5 Ectopic pregnancy\n",
    "# 6 Current pregnancy\n",
    "\n",
    "# Berapa banyak kelahiran yg hasilnya: Live birth?\n",
    "nsfg['outcome'].value_counts()"
   ]
  },
  {
   "cell_type": "code",
   "execution_count": 11,
   "metadata": {},
   "outputs": [
    {
     "data": {
      "text/plain": [
       "1.0    6379\n",
       "2.0     100\n",
       "3.0       5\n",
       "8.0       1\n",
       "Name: nbrnaliv, dtype: int64"
      ]
     },
     "execution_count": 11,
     "metadata": {},
     "output_type": "execute_result"
    }
   ],
   "source": [
    "# Membersihkan variabel 'nbrnaliv'\n",
    "nsfg['nbrnaliv'].value_counts()"
   ]
  },
  {
   "cell_type": "code",
   "execution_count": 12,
   "metadata": {},
   "outputs": [],
   "source": [
    "# Merubah value 8 menjadi NaN\n",
    "nsfg['nbrnaliv'].replace([8], np.nan, inplace=True)"
   ]
  },
  {
   "cell_type": "code",
   "execution_count": 14,
   "metadata": {},
   "outputs": [
    {
     "data": {
      "text/plain": [
       "1.0    6379\n",
       "2.0     100\n",
       "3.0       5\n",
       "Name: nbrnaliv, dtype: int64"
      ]
     },
     "execution_count": 14,
     "metadata": {},
     "output_type": "execute_result"
    }
   ],
   "source": [
    "nsfg['nbrnaliv'].value_counts()"
   ]
  },
  {
   "cell_type": "code",
   "execution_count": 16,
   "metadata": {},
   "outputs": [],
   "source": [
    "# Data usia kehamilan(awal s/d kelahiran)\n",
    "agecon = nsfg['agecon']/100\n",
    "agepreg = nsfg['agepreg']/100"
   ]
  },
  {
   "cell_type": "code",
   "execution_count": 17,
   "metadata": {},
   "outputs": [],
   "source": [
    "# hitung selisih agecon - ageprep\n",
    "preg_length = agepreg - agecon"
   ]
  },
  {
   "cell_type": "code",
   "execution_count": 18,
   "metadata": {},
   "outputs": [
    {
     "name": "stdout",
     "output_type": "stream",
     "text": [
      "count    9109.000000\n",
      "mean        0.552069\n",
      "std         0.271479\n",
      "min         0.000000\n",
      "25%         0.250000\n",
      "50%         0.670000\n",
      "75%         0.750000\n",
      "max         0.920000\n",
      "dtype: float64\n"
     ]
    }
   ],
   "source": [
    "print(preg_length.describe())"
   ]
  },
  {
   "cell_type": "code",
   "execution_count": 20,
   "metadata": {},
   "outputs": [],
   "source": [
    "nsfg['preglength'] = preg_length"
   ]
  },
  {
   "cell_type": "code",
   "execution_count": 21,
   "metadata": {},
   "outputs": [
    {
     "data": {
      "text/html": [
       "<div>\n",
       "<style scoped>\n",
       "    .dataframe tbody tr th:only-of-type {\n",
       "        vertical-align: middle;\n",
       "    }\n",
       "\n",
       "    .dataframe tbody tr th {\n",
       "        vertical-align: top;\n",
       "    }\n",
       "\n",
       "    .dataframe thead th {\n",
       "        text-align: right;\n",
       "    }\n",
       "</style>\n",
       "<table border=\"1\" class=\"dataframe\">\n",
       "  <thead>\n",
       "    <tr style=\"text-align: right;\">\n",
       "      <th></th>\n",
       "      <th>caseid</th>\n",
       "      <th>outcome</th>\n",
       "      <th>birthwgt_lb1</th>\n",
       "      <th>birthwgt_oz1</th>\n",
       "      <th>prglngth</th>\n",
       "      <th>nbrnaliv</th>\n",
       "      <th>agecon</th>\n",
       "      <th>agepreg</th>\n",
       "      <th>hpagelb</th>\n",
       "      <th>wgt2013_2015</th>\n",
       "      <th>preglength</th>\n",
       "    </tr>\n",
       "  </thead>\n",
       "  <tbody>\n",
       "    <tr>\n",
       "      <th>0</th>\n",
       "      <td>60418</td>\n",
       "      <td>1</td>\n",
       "      <td>5.0</td>\n",
       "      <td>4.0</td>\n",
       "      <td>40</td>\n",
       "      <td>1.0</td>\n",
       "      <td>2000</td>\n",
       "      <td>2075.0</td>\n",
       "      <td>22.0</td>\n",
       "      <td>3554.964843</td>\n",
       "      <td>0.75</td>\n",
       "    </tr>\n",
       "    <tr>\n",
       "      <th>1</th>\n",
       "      <td>60418</td>\n",
       "      <td>1</td>\n",
       "      <td>4.0</td>\n",
       "      <td>12.0</td>\n",
       "      <td>36</td>\n",
       "      <td>1.0</td>\n",
       "      <td>2291</td>\n",
       "      <td>2358.0</td>\n",
       "      <td>25.0</td>\n",
       "      <td>3554.964843</td>\n",
       "      <td>0.67</td>\n",
       "    </tr>\n",
       "    <tr>\n",
       "      <th>2</th>\n",
       "      <td>60418</td>\n",
       "      <td>1</td>\n",
       "      <td>5.0</td>\n",
       "      <td>4.0</td>\n",
       "      <td>36</td>\n",
       "      <td>1.0</td>\n",
       "      <td>3241</td>\n",
       "      <td>3308.0</td>\n",
       "      <td>52.0</td>\n",
       "      <td>3554.964843</td>\n",
       "      <td>0.67</td>\n",
       "    </tr>\n",
       "    <tr>\n",
       "      <th>3</th>\n",
       "      <td>60419</td>\n",
       "      <td>6</td>\n",
       "      <td>NaN</td>\n",
       "      <td>NaN</td>\n",
       "      <td>33</td>\n",
       "      <td>NaN</td>\n",
       "      <td>3650</td>\n",
       "      <td>NaN</td>\n",
       "      <td>NaN</td>\n",
       "      <td>2484.535358</td>\n",
       "      <td>NaN</td>\n",
       "    </tr>\n",
       "    <tr>\n",
       "      <th>4</th>\n",
       "      <td>60420</td>\n",
       "      <td>1</td>\n",
       "      <td>8.0</td>\n",
       "      <td>13.0</td>\n",
       "      <td>41</td>\n",
       "      <td>1.0</td>\n",
       "      <td>2191</td>\n",
       "      <td>2266.0</td>\n",
       "      <td>24.0</td>\n",
       "      <td>2903.782914</td>\n",
       "      <td>0.75</td>\n",
       "    </tr>\n",
       "  </tbody>\n",
       "</table>\n",
       "</div>"
      ],
      "text/plain": [
       "   caseid  outcome  birthwgt_lb1  birthwgt_oz1  prglngth  nbrnaliv  agecon  \\\n",
       "0   60418        1           5.0           4.0        40       1.0    2000   \n",
       "1   60418        1           4.0          12.0        36       1.0    2291   \n",
       "2   60418        1           5.0           4.0        36       1.0    3241   \n",
       "3   60419        6           NaN           NaN        33       NaN    3650   \n",
       "4   60420        1           8.0          13.0        41       1.0    2191   \n",
       "\n",
       "   agepreg  hpagelb  wgt2013_2015  preglength  \n",
       "0   2075.0     22.0   3554.964843        0.75  \n",
       "1   2358.0     25.0   3554.964843        0.67  \n",
       "2   3308.0     52.0   3554.964843        0.67  \n",
       "3      NaN      NaN   2484.535358         NaN  \n",
       "4   2266.0     24.0   2903.782914        0.75  "
      ]
     },
     "execution_count": 21,
     "metadata": {},
     "output_type": "execute_result"
    }
   ],
   "source": [
    "nsfg.head()"
   ]
  },
  {
   "cell_type": "code",
   "execution_count": 24,
   "metadata": {},
   "outputs": [
    {
     "data": {
      "image/png": "[encoded data removed]",
      "text/plain": [
       "<Figure size 432x288 with 1 Axes>"
      ]
     },
     "metadata": {
      "needs_background": "light"
     },
     "output_type": "display_data"
    }
   ],
   "source": [
    "# Plot the histogram\n",
    "plt.hist(agecon, 20)\n",
    "\n",
    "# Label the axes\n",
    "plt.xlabel('Age at conception')\n",
    "plt.ylabel('Number of pregnancies')\n",
    "\n",
    "# Show the figure\n",
    "plt.show()"
   ]
  },
  {
   "cell_type": "code",
   "execution_count": 25,
   "metadata": {},
   "outputs": [
    {
     "data": {
      "image/png": "[encoded data removed]",
      "text/plain": [
       "<Figure size 432x288 with 1 Axes>"
      ]
     },
     "metadata": {
      "needs_background": "light"
     },
     "output_type": "display_data"
    }
   ],
   "source": [
    "# Plot the histogram\n",
    "plt.hist(agecon, bins=20, histtype='step')\n",
    "\n",
    "# Label the axes\n",
    "plt.xlabel('Age at conception')\n",
    "plt.ylabel('Number of pregnancies')\n",
    "\n",
    "# Show the figure\n",
    "plt.show()"
   ]
  },
  {
   "cell_type": "code",
   "execution_count": 30,
   "metadata": {},
   "outputs": [],
   "source": [
    "# membuat fungsi \n",
    "def resample_rows_weighted(df, column='finalwgt', seed=17):\n",
    "    \"\"\"Resamples a DataFrame using probabilities proportional to given column.\n",
    "\n",
    "    df: DataFrame\n",
    "    column: string column name to use as weights\n",
    "\n",
    "    returns: DataFrame\n",
    "    \"\"\"\n",
    "    np.random.seed(seed)\n",
    "    weights = df[column] / sum(df[column])\n",
    "    indices = np.random.choice(df.index, len(df), replace=True, p=weights)\n",
    "    sample = df.loc[indices]\n",
    "    return sample"
   ]
  },
  {
   "cell_type": "code",
   "execution_count": 31,
   "metadata": {},
   "outputs": [],
   "source": [
    "nsfg = resample_rows_weighted(nsfg, 'wgt2013_2015')"
   ]
  },
  {
   "cell_type": "code",
   "execution_count": 32,
   "metadata": {},
   "outputs": [],
   "source": [
    "# Membersihkan data dr kolom birthwgt_lb2 & birthwgt_oz1\n",
    "pounds = nsfg['birthwgt_lb1'].replace([98, 99], np.nan)\n",
    "ounces = nsfg['birthwgt_oz1'].replace([98, 99], np.nan)"
   ]
  },
  {
   "cell_type": "code",
   "execution_count": 33,
   "metadata": {},
   "outputs": [],
   "source": [
    "# menghitung berat total\n",
    "birth_weight = pounds + ounces/16"
   ]
  },
  {
   "cell_type": "code",
   "execution_count": 35,
   "metadata": {},
   "outputs": [],
   "source": [
    "# Buat Series (boolean) \n",
    "full_term = nsfg['prglngth'] >= 37"
   ]
  },
  {
   "cell_type": "code",
   "execution_count": 36,
   "metadata": {},
   "outputs": [
    {
     "name": "stdout",
     "output_type": "stream",
     "text": [
      "7.392597951914515\n"
     ]
    }
   ],
   "source": [
    "full_term_weight = birth_weight[full_term]\n",
    "print(full_term_weight.mean())"
   ]
  },
  {
   "cell_type": "code",
   "execution_count": 37,
   "metadata": {},
   "outputs": [],
   "source": [
    "# Mancari lama kehamilan rata-rata pada bayi lahir\n",
    "single = nsfg['nbrnaliv'] == 1"
   ]
  },
  {
   "cell_type": "code",
   "execution_count": 39,
   "metadata": {},
   "outputs": [
    {
     "name": "stdout",
     "output_type": "stream",
     "text": [
      "Single full-term mean: 7.40297320308299\n"
     ]
    }
   ],
   "source": [
    "# Filter berat bayi dg kelahiran normal (lahir hidup)\n",
    "single_full_term_weight = birth_weight[single & full_term]\n",
    "print('Single full-term mean:', single_full_term_weight.mean())"
   ]
  },
  {
   "cell_type": "code",
   "execution_count": 41,
   "metadata": {},
   "outputs": [
    {
     "name": "stdout",
     "output_type": "stream",
     "text": [
      "Multiple full-term mean: 5.784722222222222\n"
     ]
    }
   ],
   "source": [
    "# Filter berat bayi dg kelahiran normal (all)\n",
    "mult_full_term_weight = birth_weight[~single & full_term]\n",
    "print('Multiple full-term mean:', mult_full_term_weight.mean())"
   ]
  },
  {
   "cell_type": "code",
   "execution_count": null,
   "metadata": {},
   "outputs": [],
   "source": []
  }
 ],
 "metadata": {
  "kernelspec": {
   "display_name": "Python 3",
   "language": "python",
   "name": "python3"
  },
  "language_info": {
   "codemirror_mode": {
    "name": "ipython",
    "version": 3
   },
   "file_extension": ".py",
   "mimetype": "text/x-python",
   "name": "python",
   "nbconvert_exporter": "python",
   "pygments_lexer": "ipython3",
   "version": "3.7.6"
  }
 },
 "nbformat": 4,
 "nbformat_minor": 4
}
