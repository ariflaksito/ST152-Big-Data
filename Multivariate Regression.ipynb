{
 "cells": [
  {
   "cell_type": "code",
   "execution_count": 1,
   "metadata": {},
   "outputs": [],
   "source": [
    "import numpy as np\n",
    "import pandas as pd\n",
    "from sklearn.linear_model import LinearRegression"
   ]
  },
  {
   "cell_type": "code",
   "execution_count": 2,
   "metadata": {},
   "outputs": [
    {
     "name": "stdout",
     "output_type": "stream",
     "text": [
      "    y  x1  x2\n",
      "0  23  10   7\n",
      "1   7   2   3\n",
      "2  15   4   2\n",
      "3  17   6   4\n",
      "4  23   8   6\n",
      "5  22   7   5\n",
      "6  10   4   3\n",
      "7  14   6   3\n",
      "8  20   7   4\n",
      "9  19   6   3\n"
     ]
    }
   ],
   "source": [
    "# Definisikan dataset \n",
    "df = pd.DataFrame([[23,10,7],[7,2,3],[15,4,2],[17,6,4],[23,8,6],[22,7,5],[10,4,3],[14,6,3],[20,7,4],[19,6,3]])\n",
    "df.columns = ['y', 'x1','x2']\n",
    "print(df)"
   ]
  },
  {
   "cell_type": "code",
   "execution_count": 4,
   "metadata": {},
   "outputs": [],
   "source": [
    "x = df[['x1','x2']]\n",
    "y = df['y']"
   ]
  },
  {
   "cell_type": "code",
   "execution_count": 7,
   "metadata": {},
   "outputs": [
    {
     "data": {
      "text/plain": [
       "LinearRegression()"
      ]
     },
     "execution_count": 7,
     "metadata": {},
     "output_type": "execute_result"
    }
   ],
   "source": [
    "regr = LinearRegression()\n",
    "regr.fit(x, y)"
   ]
  },
  {
   "cell_type": "code",
   "execution_count": 8,
   "metadata": {},
   "outputs": [
    {
     "name": "stdout",
     "output_type": "stream",
     "text": [
      "Intercept: \n",
      " 3.918727915194342\n",
      "Coefficients: \n",
      " [ 2.49116608 -0.4664311 ]\n"
     ]
    }
   ],
   "source": [
    "# Mendapatkan nilai coef & intercept\n",
    "print('Intercept: \\n', regr.intercept_)\n",
    "print('Coefficients: \\n', regr.coef_)"
   ]
  },
  {
   "cell_type": "code",
   "execution_count": 9,
   "metadata": {},
   "outputs": [],
   "source": [
    "ndata = [[11, 8]]"
   ]
  },
  {
   "cell_type": "code",
   "execution_count": 10,
   "metadata": {},
   "outputs": [
    {
     "name": "stdout",
     "output_type": "stream",
     "text": [
      "[27.59010601]\n"
     ]
    }
   ],
   "source": [
    "p = regr.predict(ndata)\n",
    "print(p)"
   ]
  }
 ],
 "metadata": {
  "kernelspec": {
   "display_name": "Python 3",
   "language": "python",
   "name": "python3"
  },
  "language_info": {
   "codemirror_mode": {
    "name": "ipython",
    "version": 3
   },
   "file_extension": ".py",
   "mimetype": "text/x-python",
   "name": "python",
   "nbconvert_exporter": "python",
   "pygments_lexer": "ipython3",
   "version": "3.7.6"
  }
 },
 "nbformat": 4,
 "nbformat_minor": 4
}
