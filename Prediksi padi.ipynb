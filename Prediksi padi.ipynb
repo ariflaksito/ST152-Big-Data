{
 "cells": [
  {
   "cell_type": "code",
   "execution_count": 46,
   "metadata": {},
   "outputs": [],
   "source": [
    "import numpy as np\n",
    "import pandas as pd\n",
    "from sklearn.linear_model import LinearRegression\n",
    "from sklearn.model_selection import train_test_split"
   ]
  },
  {
   "cell_type": "markdown",
   "metadata": {},
   "source": [
    "## Load dataset"
   ]
  },
  {
   "cell_type": "code",
   "execution_count": 47,
   "metadata": {},
   "outputs": [
    {
     "data": {
      "text/html": [
       "<div>\n",
       "<style scoped>\n",
       "    .dataframe tbody tr th:only-of-type {\n",
       "        vertical-align: middle;\n",
       "    }\n",
       "\n",
       "    .dataframe tbody tr th {\n",
       "        vertical-align: top;\n",
       "    }\n",
       "\n",
       "    .dataframe thead th {\n",
       "        text-align: right;\n",
       "    }\n",
       "</style>\n",
       "<table border=\"1\" class=\"dataframe\">\n",
       "  <thead>\n",
       "    <tr style=\"text-align: right;\">\n",
       "      <th></th>\n",
       "      <th>bulan</th>\n",
       "      <th>luas</th>\n",
       "      <th>curah_hujan</th>\n",
       "      <th>hama</th>\n",
       "      <th>hasil</th>\n",
       "    </tr>\n",
       "  </thead>\n",
       "  <tbody>\n",
       "    <tr>\n",
       "      <th>0</th>\n",
       "      <td>Bulan Tanam</td>\n",
       "      <td>Luas Panen (X1)</td>\n",
       "      <td>Curah Hujan (X2)</td>\n",
       "      <td>Hama (X3)</td>\n",
       "      <td>Hasil Panen</td>\n",
       "    </tr>\n",
       "    <tr>\n",
       "      <th>1</th>\n",
       "      <td>Jan – Apr 2009</td>\n",
       "      <td>14210</td>\n",
       "      <td>Baik (10)</td>\n",
       "      <td>10.70%</td>\n",
       "      <td>91862</td>\n",
       "    </tr>\n",
       "    <tr>\n",
       "      <th>2</th>\n",
       "      <td>Mei – Ags 2009</td>\n",
       "      <td>10863</td>\n",
       "      <td>Kurang (-20)</td>\n",
       "      <td>12%</td>\n",
       "      <td>68244</td>\n",
       "    </tr>\n",
       "    <tr>\n",
       "      <th>3</th>\n",
       "      <td>Sep – Des 2009</td>\n",
       "      <td>3185</td>\n",
       "      <td>Kurang (-20)</td>\n",
       "      <td>11.90%</td>\n",
       "      <td>22737</td>\n",
       "    </tr>\n",
       "    <tr>\n",
       "      <th>4</th>\n",
       "      <td>Jan – Apr 2010</td>\n",
       "      <td>12254</td>\n",
       "      <td>Baik (10)</td>\n",
       "      <td>5.90%</td>\n",
       "      <td>81121</td>\n",
       "    </tr>\n",
       "  </tbody>\n",
       "</table>\n",
       "</div>"
      ],
      "text/plain": [
       "            bulan             luas       curah_hujan       hama        hasil\n",
       "0     Bulan Tanam  Luas Panen (X1)  Curah Hujan (X2)  Hama (X3)  Hasil Panen\n",
       "1  Jan – Apr 2009            14210         Baik (10)     10.70%        91862\n",
       "2  Mei – Ags 2009            10863      Kurang (-20)        12%        68244\n",
       "3  Sep – Des 2009             3185      Kurang (-20)     11.90%        22737\n",
       "4  Jan – Apr 2010            12254         Baik (10)      5.90%        81121"
      ]
     },
     "execution_count": 47,
     "metadata": {},
     "output_type": "execute_result"
    }
   ],
   "source": [
    "df = pd.read_csv('datapadi.csv', sep=\";\", names=['bulan','luas','curah_hujan','hama','hasil'])\n",
    "df.head()"
   ]
  },
  {
   "cell_type": "code",
   "execution_count": 48,
   "metadata": {},
   "outputs": [
    {
     "data": {
      "text/plain": [
       "(28, 5)"
      ]
     },
     "execution_count": 48,
     "metadata": {},
     "output_type": "execute_result"
    }
   ],
   "source": [
    "df.shape"
   ]
  },
  {
   "cell_type": "markdown",
   "metadata": {},
   "source": [
    "## Pre-processing"
   ]
  },
  {
   "cell_type": "code",
   "execution_count": 49,
   "metadata": {},
   "outputs": [],
   "source": [
    "df.drop([0], inplace=True)"
   ]
  },
  {
   "cell_type": "code",
   "execution_count": 50,
   "metadata": {},
   "outputs": [],
   "source": [
    "# Bersihkan data curah hujan\n",
    "df['curah_hujan'] = df.curah_hujan.str.extract('(-?\\d+)') "
   ]
  },
  {
   "cell_type": "code",
   "execution_count": 51,
   "metadata": {},
   "outputs": [],
   "source": [
    "# Bersihkan data hama\n",
    "df['hama'] = df.apply(lambda x:x['hama'][:-1], axis=1)"
   ]
  },
  {
   "cell_type": "code",
   "execution_count": 52,
   "metadata": {},
   "outputs": [
    {
     "name": "stdout",
     "output_type": "stream",
     "text": [
      "<class 'pandas.core.frame.DataFrame'>\n",
      "Int64Index: 27 entries, 1 to 27\n",
      "Data columns (total 5 columns):\n",
      " #   Column       Non-Null Count  Dtype \n",
      "---  ------       --------------  ----- \n",
      " 0   bulan        27 non-null     object\n",
      " 1   luas         27 non-null     object\n",
      " 2   curah_hujan  27 non-null     object\n",
      " 3   hama         27 non-null     object\n",
      " 4   hasil        27 non-null     object\n",
      "dtypes: object(5)\n",
      "memory usage: 1.3+ KB\n",
      "None\n"
     ]
    }
   ],
   "source": [
    "# Cek tipe data\n",
    "print(df.info())"
   ]
  },
  {
   "cell_type": "code",
   "execution_count": 53,
   "metadata": {},
   "outputs": [],
   "source": [
    "# Convert to number(int, float)\n",
    "df[\"luas\"] = df.luas.astype(int)\n",
    "df[\"curah_hujan\"] = df.curah_hujan.astype(int)\n",
    "df[\"hama\"] = df.hama.astype(float)\n",
    "df[\"hasil\"] = df.hasil.astype(int)"
   ]
  },
  {
   "cell_type": "code",
   "execution_count": 54,
   "metadata": {},
   "outputs": [
    {
     "data": {
      "text/html": [
       "<div>\n",
       "<style scoped>\n",
       "    .dataframe tbody tr th:only-of-type {\n",
       "        vertical-align: middle;\n",
       "    }\n",
       "\n",
       "    .dataframe tbody tr th {\n",
       "        vertical-align: top;\n",
       "    }\n",
       "\n",
       "    .dataframe thead th {\n",
       "        text-align: right;\n",
       "    }\n",
       "</style>\n",
       "<table border=\"1\" class=\"dataframe\">\n",
       "  <thead>\n",
       "    <tr style=\"text-align: right;\">\n",
       "      <th></th>\n",
       "      <th>bulan</th>\n",
       "      <th>luas</th>\n",
       "      <th>curah_hujan</th>\n",
       "      <th>hama</th>\n",
       "      <th>hasil</th>\n",
       "    </tr>\n",
       "  </thead>\n",
       "  <tbody>\n",
       "    <tr>\n",
       "      <th>1</th>\n",
       "      <td>Jan – Apr 2009</td>\n",
       "      <td>14210</td>\n",
       "      <td>10</td>\n",
       "      <td>10.7</td>\n",
       "      <td>91862</td>\n",
       "    </tr>\n",
       "    <tr>\n",
       "      <th>2</th>\n",
       "      <td>Mei – Ags 2009</td>\n",
       "      <td>10863</td>\n",
       "      <td>-20</td>\n",
       "      <td>12.0</td>\n",
       "      <td>68244</td>\n",
       "    </tr>\n",
       "    <tr>\n",
       "      <th>3</th>\n",
       "      <td>Sep – Des 2009</td>\n",
       "      <td>3185</td>\n",
       "      <td>-20</td>\n",
       "      <td>11.9</td>\n",
       "      <td>22737</td>\n",
       "    </tr>\n",
       "    <tr>\n",
       "      <th>4</th>\n",
       "      <td>Jan – Apr 2010</td>\n",
       "      <td>12254</td>\n",
       "      <td>10</td>\n",
       "      <td>5.9</td>\n",
       "      <td>81121</td>\n",
       "    </tr>\n",
       "    <tr>\n",
       "      <th>5</th>\n",
       "      <td>Mei – Ags 2010</td>\n",
       "      <td>11851</td>\n",
       "      <td>-20</td>\n",
       "      <td>75.0</td>\n",
       "      <td>63034</td>\n",
       "    </tr>\n",
       "  </tbody>\n",
       "</table>\n",
       "</div>"
      ],
      "text/plain": [
       "            bulan   luas  curah_hujan  hama  hasil\n",
       "1  Jan – Apr 2009  14210           10  10.7  91862\n",
       "2  Mei – Ags 2009  10863          -20  12.0  68244\n",
       "3  Sep – Des 2009   3185          -20  11.9  22737\n",
       "4  Jan – Apr 2010  12254           10   5.9  81121\n",
       "5  Mei – Ags 2010  11851          -20  75.0  63034"
      ]
     },
     "execution_count": 54,
     "metadata": {},
     "output_type": "execute_result"
    }
   ],
   "source": [
    "df.head()"
   ]
  },
  {
   "cell_type": "code",
   "execution_count": 55,
   "metadata": {},
   "outputs": [
    {
     "name": "stdout",
     "output_type": "stream",
     "text": [
      "<class 'pandas.core.frame.DataFrame'>\n",
      "Int64Index: 27 entries, 1 to 27\n",
      "Data columns (total 5 columns):\n",
      " #   Column       Non-Null Count  Dtype  \n",
      "---  ------       --------------  -----  \n",
      " 0   bulan        27 non-null     object \n",
      " 1   luas         27 non-null     int64  \n",
      " 2   curah_hujan  27 non-null     int64  \n",
      " 3   hama         27 non-null     float64\n",
      " 4   hasil        27 non-null     int64  \n",
      "dtypes: float64(1), int64(3), object(1)\n",
      "memory usage: 1.3+ KB\n"
     ]
    }
   ],
   "source": [
    "df.info()"
   ]
  },
  {
   "cell_type": "markdown",
   "metadata": {},
   "source": [
    "## Split dataset"
   ]
  },
  {
   "cell_type": "code",
   "execution_count": 56,
   "metadata": {},
   "outputs": [],
   "source": [
    "X = df[['luas','curah_hujan','hama']]\n",
    "y = df['hasil']"
   ]
  },
  {
   "cell_type": "code",
   "execution_count": 57,
   "metadata": {},
   "outputs": [],
   "source": [
    "X_train, X_test, y_train, y_test = train_test_split(X, y, test_size=0.2, random_state=42)"
   ]
  },
  {
   "cell_type": "code",
   "execution_count": 58,
   "metadata": {},
   "outputs": [
    {
     "name": "stdout",
     "output_type": "stream",
     "text": [
      "(21, 3)\n",
      "(6, 3)\n"
     ]
    }
   ],
   "source": [
    "print(X_train.shape)\n",
    "print(X_test.shape)"
   ]
  },
  {
   "cell_type": "code",
   "execution_count": 59,
   "metadata": {},
   "outputs": [
    {
     "name": "stdout",
     "output_type": "stream",
     "text": [
      "(21,)\n",
      "(6,)\n"
     ]
    }
   ],
   "source": [
    "print(y_train.shape)\n",
    "print(y_test.shape)"
   ]
  },
  {
   "cell_type": "markdown",
   "metadata": {},
   "source": [
    "## Model regresi"
   ]
  },
  {
   "cell_type": "code",
   "execution_count": 60,
   "metadata": {},
   "outputs": [
    {
     "data": {
      "text/plain": [
       "LinearRegression()"
      ]
     },
     "execution_count": 60,
     "metadata": {},
     "output_type": "execute_result"
    }
   ],
   "source": [
    "regr = LinearRegression()\n",
    "regr.fit(X_train, y_train)"
   ]
  },
  {
   "cell_type": "code",
   "execution_count": 61,
   "metadata": {},
   "outputs": [
    {
     "name": "stdout",
     "output_type": "stream",
     "text": [
      "Intercept: \n",
      " 8307.492737664026\n",
      "Coefficients: \n",
      " [   5.92956964  118.24757043 -175.73647293]\n"
     ]
    }
   ],
   "source": [
    "# Mendapatkan nilai coef & intercept\n",
    "print('Intercept: \\n', regr.intercept_)\n",
    "print('Coefficients: \\n', regr.coef_)"
   ]
  },
  {
   "cell_type": "code",
   "execution_count": 62,
   "metadata": {},
   "outputs": [
    {
     "name": "stdout",
     "output_type": "stream",
     "text": [
      "[33321.76898217 74015.01452205 88345.47169718 76959.16171269\n",
      " 91868.77277834 34637.45483865]\n"
     ]
    }
   ],
   "source": [
    "# Menampilkan hasil prediksi\n",
    "pred = regr.predict(X_test)\n",
    "print(pred)"
   ]
  },
  {
   "cell_type": "markdown",
   "metadata": {},
   "source": [
    "## Evaluasi model"
   ]
  },
  {
   "cell_type": "code",
   "execution_count": 63,
   "metadata": {},
   "outputs": [],
   "source": [
    "from sklearn import metrics"
   ]
  },
  {
   "cell_type": "code",
   "execution_count": 64,
   "metadata": {},
   "outputs": [],
   "source": [
    "rmse = np.sqrt(metrics.mean_squared_error(np.array(y_test), pred))"
   ]
  },
  {
   "cell_type": "code",
   "execution_count": 65,
   "metadata": {},
   "outputs": [
    {
     "data": {
      "text/plain": [
       "4.39425333515643"
      ]
     },
     "execution_count": 65,
     "metadata": {},
     "output_type": "execute_result"
    }
   ],
   "source": [
    "rmse"
   ]
  },
  {
   "cell_type": "markdown",
   "metadata": {},
   "source": [
    "## Komparasi dg Normalisasi data"
   ]
  },
  {
   "cell_type": "code",
   "execution_count": 66,
   "metadata": {},
   "outputs": [],
   "source": [
    "# Menggunakan MinMax\n",
    "from sklearn.preprocessing import MinMaxScaler"
   ]
  },
  {
   "cell_type": "code",
   "execution_count": 67,
   "metadata": {},
   "outputs": [],
   "source": [
    "scaler = MinMaxScaler()"
   ]
  },
  {
   "cell_type": "code",
   "execution_count": 71,
   "metadata": {},
   "outputs": [],
   "source": [
    "minmax = scaler.fit(X)\n",
    "X1 = scaler.transform(X)"
   ]
  },
  {
   "cell_type": "code",
   "execution_count": 72,
   "metadata": {},
   "outputs": [
    {
     "name": "stdout",
     "output_type": "stream",
     "text": [
      "[[1.         0.75       0.13108108]\n",
      " [0.69641723 0.         0.14864865]\n",
      " [0.         0.         0.1472973 ]\n",
      " [0.82258503 0.75       0.06621622]\n",
      " [0.78603175 0.         1.        ]\n",
      " [0.31165533 0.75       0.18243243]\n",
      " [0.92544218 0.75       0.08783784]\n",
      " [0.86376417 0.         0.30675676]\n",
      " [0.12861678 0.75       0.2527027 ]\n",
      " [0.92244898 0.75       0.01216216]\n",
      " [0.82594104 1.         0.08378378]\n",
      " [0.12462585 0.5        0.04054054]\n",
      " [0.89950113 0.75       0.12837838]\n",
      " [0.83519274 0.         0.4027027 ]\n",
      " [0.36390023 0.5        0.06081081]\n",
      " [0.94430839 0.75       0.35945946]\n",
      " [0.72399093 0.75       0.09324324]\n",
      " [0.2030839  0.         0.35810811]\n",
      " [0.89079365 0.75       0.        ]\n",
      " [0.72417234 0.         0.14189189]\n",
      " [0.20698413 1.         0.02702703]\n",
      " [0.81306122 0.75       0.33783784]\n",
      " [0.83020408 0.         0.72972973]\n",
      " [0.21197279 0.5        0.31216216]\n",
      " [0.89823129 1.         0.        ]\n",
      " [0.82603175 0.         0.80945946]\n",
      " [0.1324263  0.         0.53378378]]\n"
     ]
    }
   ],
   "source": [
    "print(X1)"
   ]
  },
  {
   "cell_type": "code",
   "execution_count": 73,
   "metadata": {},
   "outputs": [],
   "source": [
    "# Split kembali dataset\n",
    "X1_train, X1_test, y1_train, y1_test = train_test_split(X1, y, test_size=0.2, random_state=42)"
   ]
  },
  {
   "cell_type": "code",
   "execution_count": 74,
   "metadata": {},
   "outputs": [
    {
     "data": {
      "text/plain": [
       "LinearRegression()"
      ]
     },
     "execution_count": 74,
     "metadata": {},
     "output_type": "execute_result"
    }
   ],
   "source": [
    "regr1 = LinearRegression()\n",
    "regr1.fit(X1_train, y1_train)"
   ]
  },
  {
   "cell_type": "code",
   "execution_count": 75,
   "metadata": {},
   "outputs": [
    {
     "name": "stdout",
     "output_type": "stream",
     "text": [
      "Intercept: \n",
      " 24652.48416226328\n",
      "Coefficients: \n",
      " [ 65373.50529055   4729.90281726 -13004.4989968 ]\n"
     ]
    }
   ],
   "source": [
    "print('Intercept: \\n', regr1.intercept_)\n",
    "print('Coefficients: \\n', regr1.coef_)"
   ]
  },
  {
   "cell_type": "code",
   "execution_count": 77,
   "metadata": {},
   "outputs": [
    {
     "name": "stdout",
     "output_type": "stream",
     "text": [
      "[33321.76898217 74015.01452205 88345.47169718 76959.16171269\n",
      " 91868.77277834 34637.45483865]\n"
     ]
    }
   ],
   "source": [
    "pred1 = regr1.predict(X1_test)\n",
    "print(pred1)"
   ]
  },
  {
   "cell_type": "code",
   "execution_count": 78,
   "metadata": {},
   "outputs": [
    {
     "data": {
      "text/plain": [
       "4.394253335146202"
      ]
     },
     "execution_count": 78,
     "metadata": {},
     "output_type": "execute_result"
    }
   ],
   "source": [
    "rmse1 = np.sqrt(metrics.mean_squared_error(np.array(y1_test), pred))\n",
    "rmse1"
   ]
  },
  {
   "cell_type": "code",
   "execution_count": null,
   "metadata": {},
   "outputs": [],
   "source": []
  }
 ],
 "metadata": {
  "kernelspec": {
   "display_name": "Python 3",
   "language": "python",
   "name": "python3"
  },
  "language_info": {
   "codemirror_mode": {
    "name": "ipython",
    "version": 3
   },
   "file_extension": ".py",
   "mimetype": "text/x-python",
   "name": "python",
   "nbconvert_exporter": "python",
   "pygments_lexer": "ipython3",
   "version": "3.7.6"
  }
 },
 "nbformat": 4,
 "nbformat_minor": 4
}
